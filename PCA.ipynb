{
 "cells": [
  {
   "cell_type": "markdown",
   "metadata": {},
   "source": [
    "# What is PCA?"
   ]
  },
  {
   "cell_type": "markdown",
   "metadata": {},
   "source": [
    "#### PCA is used to **identify patterns in data** and used to **compress data** without much loss of information.\n",
    "\n",
    "#### In this Notebook we will find patterns in 2-D data and represent it in 1-D(Thereby compressing it)\n",
    "\n",
    "#### Look at the Figure below:"
   ]
  },
  {
   "cell_type": "markdown",
   "metadata": {},
   "source": [
    "<img src=\"1.png\">"
   ]
  },
  {
   "cell_type": "markdown",
   "metadata": {},
   "source": [
    "#### In figure 1, we represent the blue points in 2 co-ordinates. But there is pattern in the data,They actually lie on a same line!(**Identifying pattern in the data**)\n",
    "\n",
    "#### So we draw an imaginary line( **The grey line** ) through the blue points\n",
    "\n",
    "#### From the prespective of the grey line,wouldnt we be able to represent all the blue points in only one co-ordinate?(**Compression**). This is shown in Figure 2"
   ]
  },
  {
   "cell_type": "code",
   "execution_count": 2,
   "metadata": {
    "collapsed": true
   },
   "outputs": [],
   "source": [
    "#Import libraries\n",
    "import numpy as np\n",
    "import matplotlib.pyplot as plt\n",
    "%matplotlib inline"
   ]
  },
  {
   "cell_type": "markdown",
   "metadata": {},
   "source": [
    "# Prepare Sample Data "
   ]
  },
  {
   "cell_type": "code",
   "execution_count": 3,
   "metadata": {
    "collapsed": true
   },
   "outputs": [],
   "source": [
    "\n",
    "#This is the sample 2 dimensional data we are going to reduce\n",
    "\n",
    "x = np.matrix([2.5,0.5,2.2, 1.9, 3.1, 2.3, 2, 1, 1.5, 1.1  ])\n",
    "\n",
    "y = np.matrix([2.4,0.7,2.9,2.2,3.0,2.7,1.6,1.1,1.6,0.9])\n",
    "original_data = np.r_[x,y]"
   ]
  },
  {
   "cell_type": "code",
   "execution_count": 4,
   "metadata": {},
   "outputs": [
    {
     "data": {
      "text/plain": [
       "Text(0,0.5,'Y')"
      ]
     },
     "execution_count": 4,
     "metadata": {},
     "output_type": "execute_result"
    },
    {
     "data": {
      "image/png": "[encoded data removed]",
      "text/plain": [
       "<matplotlib.figure.Figure at 0x7f835f8>"
      ]
     },
     "metadata": {},
     "output_type": "display_data"
    }
   ],
   "source": [
    "#Plotting X and Y values \n",
    "plt.scatter([x],[y])\n",
    "plt.xlabel(\"X\")\n",
    "plt.ylabel(\"Y\")"
   ]
  },
  {
   "cell_type": "markdown",
   "metadata": {},
   "source": [
    "#### PLOT A"
   ]
  },
  {
   "cell_type": "markdown",
   "metadata": {},
   "source": [
    "In the figure above,the blue points are not perfectly on a line but there is a linear pattern in the data. We can draw an imaginary line in such a way such that it passes **close** to blue points.\n"
   ]
  },
  {
   "cell_type": "markdown",
   "metadata": {},
   "source": [
    "Find mean of x and y. Then substract the means from all the values.\n",
    "\n",
    "This is done to center the data around the origin"
   ]
  },
  {
   "cell_type": "code",
   "execution_count": 5,
   "metadata": {
    "collapsed": true
   },
   "outputs": [],
   "source": [
    "mean_x = np.mean(x)\n",
    "mean_y = np.mean(y)\n",
    "\n",
    "x = x-mean_x\n",
    "y = y-mean_y"
   ]
  },
  {
   "cell_type": "code",
   "execution_count": 6,
   "metadata": {},
   "outputs": [
    {
     "data": {
      "text/plain": [
       "Text(0,0.5,'Y')"
      ]
     },
     "execution_count": 6,
     "metadata": {},
     "output_type": "execute_result"
    },
    {
     "data": {
      "image/png": "[encoded data removed]",
      "text/plain": [
       "<matplotlib.figure.Figure at 0x813a0f0>"
      ]
     },
     "metadata": {},
     "output_type": "display_data"
    }
   ],
   "source": [
    "#Plotting X and Y values \n",
    "plt.scatter([x],[y])\n",
    "plt.xlabel(\"X\")\n",
    "plt.ylabel(\"Y\")"
   ]
  },
  {
   "cell_type": "markdown",
   "metadata": {},
   "source": [
    "#### PLOT B"
   ]
  },
  {
   "cell_type": "markdown",
   "metadata": {},
   "source": [
    "Notice the data pattern in the plot above\n",
    "\n",
    "Right now,each blue point is represented by its two(X and Y) co-ordinates.\n",
    "We are going to try to represent these blue points in one co-ordinate\n"
   ]
  },
  {
   "cell_type": "markdown",
   "metadata": {},
   "source": [
    "# Calculate the Covariance Matrix "
   ]
  },
  {
   "cell_type": "code",
   "execution_count": 7,
   "metadata": {},
   "outputs": [
    {
     "name": "stdout",
     "output_type": "stream",
     "text": [
      "[[ 0.61655556  0.61544444]\n",
      " [ 0.61544444  0.71655556]]\n"
     ]
    }
   ],
   "source": [
    "#Calculation the covariance matrix of X and Y\n",
    "data = np.r_[x,y]\n",
    "cov = np.matmul(data,data.T)/(10-1)\n",
    "print(cov)"
   ]
  },
  {
   "cell_type": "markdown",
   "metadata": {},
   "source": [
    "The diagonal values of the covariance matrix represent the variances of X and Y.\n",
    "\n",
    "The non-diagonal values are the same and represent the covariance between X and Y.\n",
    "\n",
    "As the non-diagonal values are positive,it means that if we increase X by some amount,the value of Y will also increase"
   ]
  },
  {
   "cell_type": "markdown",
   "metadata": {},
   "source": [
    "# Calculating the eigen values and eigen vectors of the covariance matrix"
   ]
  },
  {
   "cell_type": "code",
   "execution_count": 8,
   "metadata": {
    "collapsed": true
   },
   "outputs": [],
   "source": [
    "evals,evecs = np.linalg.eig(cov)"
   ]
  },
  {
   "cell_type": "code",
   "execution_count": 9,
   "metadata": {
    "collapsed": true
   },
   "outputs": [],
   "source": [
    "#Flipping so that the eigvals are arranged in descending order\n",
    "evecs = np.flip(evecs,1)\n",
    "evals = np.flipud(evals)"
   ]
  },
  {
   "cell_type": "markdown",
   "metadata": {},
   "source": [
    "Eigenvectors of symmetric matrics(Covariance matrix is always a symmetric matrix) are perpendicular to each other.(Dot product is zero)\n"
   ]
  },
  {
   "cell_type": "code",
   "execution_count": 10,
   "metadata": {},
   "outputs": [
    {
     "name": "stdout",
     "output_type": "stream",
     "text": [
      "[[ 0.]]\n"
     ]
    }
   ],
   "source": [
    "print(np.dot(evecs[:,0].T,evecs[:,1]))"
   ]
  },
  {
   "cell_type": "code",
   "execution_count": 11,
   "metadata": {},
   "outputs": [
    {
     "data": {
      "text/plain": [
       "(-1.6173930421976976,\n",
       " 1.6173930421976976,\n",
       " -1.6173930421976976,\n",
       " 1.6173930421976976)"
      ]
     },
     "execution_count": 11,
     "metadata": {},
     "output_type": "execute_result"
    },
    {
     "data": {
      "image/png": "[encoded data removed]",
      "text/plain": [
       "<matplotlib.figure.Figure at 0x74c5748>"
      ]
     },
     "metadata": {},
     "output_type": "display_data"
    }
   ],
   "source": [
    "#Plotting the eigen vectors along with the data\n",
    "#The eigen vectors are not to scale\n",
    "plt.scatter([x],[y])\n",
    "plt.plot([-evecs[0,1]*2,evecs[0,1]*2],[-evecs[1,1]*2,evecs[1,1]*2],'Y')\n",
    "plt.plot([-evecs[0,0]*2,evecs[0,0]*2],[-evecs[1,0]*2,evecs[1,0]*2],'R')\n",
    "plt.axis('equal')"
   ]
  },
  {
   "cell_type": "markdown",
   "metadata": {},
   "source": [
    "#### PLOT C"
   ]
  },
  {
   "cell_type": "markdown",
   "metadata": {},
   "source": [
    "We have plotted the eigen vectors along with the data.\n",
    "\n",
    "Notice that the imaginary line we talked about before is the** eigen vector** (Red line) with the **highest eigen value**!\n",
    "\n",
    "The second eigenvector gives us the other, less important, pattern in the data"
   ]
  },
  {
   "cell_type": "markdown",
   "metadata": {},
   "source": [
    "Now we will use these eigen vectors as the \"Basis Vectors\" and represent the data is new co-ordinates according to these new basis vectors"
   ]
  },
  {
   "cell_type": "code",
   "execution_count": 17,
   "metadata": {
    "collapsed": true
   },
   "outputs": [],
   "source": [
    "#Take inverse of the eigen vectors\n",
    "\n",
    "inv_evecs = np.linalg.inv(evecs)\n"
   ]
  },
  {
   "cell_type": "code",
   "execution_count": 18,
   "metadata": {
    "collapsed": true
   },
   "outputs": [],
   "source": [
    "new_data_with_changed_basis = np.matmul(inv_evecs,data)\n",
    "#this code changes the co-ordinate system for the points.\n",
    "#Now the eigen vectors are the basis vectors"
   ]
  },
  {
   "cell_type": "code",
   "execution_count": 19,
   "metadata": {},
   "outputs": [
    {
     "data": {
      "text/plain": [
       "(-1.8583271366651615,\n",
       " 1.9601060433010506,\n",
       " -0.40171128288749891,\n",
       " 0.43626157367078994)"
      ]
     },
     "execution_count": 19,
     "metadata": {},
     "output_type": "execute_result"
    },
    {
     "data": {
      "image/png": "[encoded data removed]",
      "text/plain": [
       "<matplotlib.figure.Figure at 0x7333438>"
      ]
     },
     "metadata": {},
     "output_type": "display_data"
    }
   ],
   "source": [
    "plt.scatter([new_data_with_changed_basis[0,:]],[new_data_with_changed_basis[1,:]])\n",
    "plt.axis('equal')"
   ]
  },
  {
   "cell_type": "markdown",
   "metadata": {},
   "source": [
    "#### PLOT D"
   ]
  },
  {
   "cell_type": "markdown",
   "metadata": {},
   "source": [
    "We plot the same data using the eigen vectors as the basis vectors(shown in plot above).This is similar tilting your head  and watching plot C , imagining the red and yellow lines as the X and Y axis respectively\n",
    "\n",
    "This plot is basically the original data, rotated so that the\n",
    "eigenvectors are the axes.\n",
    "\n",
    "\n",
    "Notice that the X and Y axis are not covarient anymore."
   ]
  },
  {
   "cell_type": "markdown",
   "metadata": {},
   "source": [
    "In the figure above, x co-ordinates of the points represent the data quite well.\n"
   ]
  },
  {
   "cell_type": "markdown",
   "metadata": {},
   "source": [
    "## Now there is no covariance between X and Y because The non-diagonal values are zero"
   ]
  },
  {
   "cell_type": "code",
   "execution_count": 29,
   "metadata": {},
   "outputs": [
    {
     "data": {
      "text/plain": [
       "array([[  1.28402771e+00,  -5.55111512e-17],\n",
       "       [ -5.55111512e-17,   4.90833989e-02]])"
      ]
     },
     "execution_count": 29,
     "metadata": {},
     "output_type": "execute_result"
    }
   ],
   "source": [
    "\n",
    "np.cov(new_data_with_changed_basis)"
   ]
  },
  {
   "cell_type": "markdown",
   "metadata": {},
   "source": [
    "## Why change the basis to Eigen Vectors?"
   ]
  },
  {
   "cell_type": "markdown",
   "metadata": {},
   "source": [
    "We first got the covariance matrix of the original data.Looking at the covariance matrix we notice that there is co-relation between the X and Y variables(non-diagonal elements being non-zero)\n",
    "\n",
    "What we want to do is to change the co-ordinate system in such a way that there is no-corelation, and the covariance matrix is a diagonal matrix.\n",
    "\n",
    "Turns out, when we represent the data with the eigen vectors (of the original covariance matrix) as the basis vectors,the new covariance matrix is a diagonal matrix. (**We use eigen vectors to make non-diagonal matrices, diagonal**)"
   ]
  },
  {
   "cell_type": "markdown",
   "metadata": {},
   "source": [
    "## Why represent data such that there is no corelation between the two variables?"
   ]
  },
  {
   "cell_type": "markdown",
   "metadata": {},
   "source": [
    "After doing the things mentioned above we finally have no corelation between the two variables.\n",
    "\n",
    "We can easily see which basis axis (aka most significant eigen vector) captures the maximum variance in the data(X axis in our case)"
   ]
  },
  {
   "cell_type": "code",
   "execution_count": 22,
   "metadata": {},
   "outputs": [],
   "source": [
    "compressed_data = new_data_with_changed_basis[0,:]\n",
    "compressed_data = compressed_data.reshape(10,1)"
   ]
  },
  {
   "cell_type": "markdown",
   "metadata": {},
   "source": [
    "The 2-D are points are now represented in 1-D.The 1-D co-ordinates are shown below(These are just the X co-ordinates of Plot D above)\n",
    "\n",
    "We take the values of the axis for which the variance is very high.X-axis in this case. We throw away the Y co-ordinates.(Which leads to a little loss of information)"
   ]
  },
  {
   "cell_type": "code",
   "execution_count": 23,
   "metadata": {},
   "outputs": [
    {
     "data": {
      "text/plain": [
       "matrix([[-0.82797019],\n",
       "        [ 1.77758033],\n",
       "        [-0.99219749],\n",
       "        [-0.27421042],\n",
       "        [-1.67580142],\n",
       "        [-0.9129491 ],\n",
       "        [ 0.09910944],\n",
       "        [ 1.14457216],\n",
       "        [ 0.43804614],\n",
       "        [ 1.22382056]])"
      ]
     },
     "execution_count": 23,
     "metadata": {},
     "output_type": "execute_result"
    }
   ],
   "source": [
    "compressed_data"
   ]
  },
  {
   "cell_type": "markdown",
   "metadata": {},
   "source": [
    "#### The values shown above are the compressed data.We have represented 2-D data in 1-D"
   ]
  },
  {
   "cell_type": "markdown",
   "metadata": {},
   "source": [
    "## Restoring the original data from the compressed data.(With some loss of information)"
   ]
  },
  {
   "cell_type": "code",
   "execution_count": 27,
   "metadata": {},
   "outputs": [],
   "source": [
    "#we multiply the compressed 1-d Co-ordinates by the most significant eigen-vector \n",
    "\n",
    "retrieved_data=np.matmul(compressed_data,evecs[:,0].T) + np.array([mean_x,mean_y])\n",
    "\n",
    "#to get the actual original data back, we need to add on the mean \n",
    "#of that original data which we subtracted at at the start"
   ]
  },
  {
   "cell_type": "code",
   "execution_count": 28,
   "metadata": {},
   "outputs": [
    {
     "data": {
      "text/plain": [
       "<matplotlib.collections.PathCollection at 0x741cba8>"
      ]
     },
     "execution_count": 28,
     "metadata": {},
     "output_type": "execute_result"
    },
    {
     "data": {
      "image/png": "[encoded data removed]",
      "text/plain": [
       "<matplotlib.figure.Figure at 0x73c4f28>"
      ]
     },
     "metadata": {},
     "output_type": "display_data"
    }
   ],
   "source": [
    "plt.scatter([retrieved_data[:,0]],[retrieved_data[:,1]])"
   ]
  },
  {
   "cell_type": "code",
   "execution_count": null,
   "metadata": {
    "collapsed": true
   },
   "outputs": [],
   "source": []
  }
 ],
 "metadata": {
  "kernelspec": {
   "display_name": "Python 3",
   "language": "python",
   "name": "python3"
  },
  "language_info": {
   "codemirror_mode": {
    "name": "ipython",
    "version": 3
   },
   "file_extension": ".py",
   "mimetype": "text/x-python",
   "name": "python",
   "nbconvert_exporter": "python",
   "pygments_lexer": "ipython3",
   "version": "3.5.3"
  }
 },
 "nbformat": 4,
 "nbformat_minor": 2
}
